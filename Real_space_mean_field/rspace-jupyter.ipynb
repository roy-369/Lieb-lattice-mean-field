{
 "cells": [
  {
   "cell_type": "code",
   "execution_count": 72,
   "id": "random-reason",
   "metadata": {},
   "outputs": [],
   "source": [
    "import scipy.linalg as LA\n",
    "import numpy as np\n",
    "import math, scipy, time\n",
    "from scipy.linalg import eigh\n",
    "\n",
    "import pandas as pd\n",
    "from tqdm import tqdm\n",
    "\n",
    "import matplotlib.pyplot as plt"
   ]
  },
  {
   "cell_type": "code",
   "execution_count": 73,
   "id": "wired-sensitivity",
   "metadata": {},
   "outputs": [],
   "source": [
    "# This code follows ref Phys. Rev. B 93, 115110 (2016)\n",
    "# for a real-space mean-field\n",
    "\n",
    "\n",
    "\n",
    "#### PARAMETERS #####\n",
    "\n",
    "Lenar = np.arange(1,10) # system size\n",
    "\n",
    "#### Code begings ####\n",
    "\n",
    "# string manipulation for filename\n",
    "\n",
    "def rp(txt):\n",
    "    return (txt.replace('.','p')).replace('-','m')\n",
    "\n",
    "\n",
    "# Lattice vectors\n",
    "\n",
    "a1 = np.array([1,0])\n",
    "a2 = np.array([0,1])\n",
    "\n",
    "\n",
    "# Hamiltonian construction : hopping Hamiltonian\n",
    "\n",
    "def dvec(rij):\n",
    "    r = np.zeros(3)\n",
    "    r[0:2] = rij\n",
    "    r[2] = 0.0\n",
    "    z = np.array([0,0,1])\n",
    "    return np.cross(z,r)[0:2]\n",
    "\n",
    "# define Pauli Matrices\n",
    "sig0 = np.array([[1,0],[0,1]]).astype(complex)\n",
    "sigx = np.array([[0,1],[1,0]]).astype(complex)\n",
    "sigy = np.array([[0. + 0.j, 0. - 1.j],[0. + 1.j, 0. + 0.j]]).astype(complex)\n",
    "sigz = np.array([[1,0],[0,-1]]).astype(complex)\n",
    "\n"
   ]
  },
  {
   "cell_type": "code",
   "execution_count": 74,
   "id": "appointed-taylor",
   "metadata": {},
   "outputs": [],
   "source": [
    "delta_stag = 0.0\n",
    "\n",
    "L = 2\n",
    "U = 0.5\n",
    "lamda = 0.0\n",
    "\n",
    "\n",
    "tstart = time.time()\n",
    "\n",
    "\n",
    "Nsites = int(L*L)\n",
    "Nbands = int(6*Nsites)\n",
    "\n",
    "pmn = np.zeros([Nsites,2])\n",
    "\n",
    "for m in range(L):\n",
    "    for n in range(L):\n",
    "        p = m + L*n\n",
    "        pmn[p] = [m,n]\n",
    "\n",
    "\n",
    "# adjacency matrix\n",
    "if L>1:\n",
    "    cvectr = np.zeros([L,1])\n",
    "    cvectr[1]=1\n",
    "    cvectr[L-1]=1\n",
    "    offdi = LA.circulant(cvectr)\n",
    "    I = np.eye(L)\t\n",
    "    Adj = np.kron(offdi,I) + np.kron(I,offdi)\n",
    "else:\n",
    "    Adj = np.ones([1,1])"
   ]
  },
  {
   "cell_type": "code",
   "execution_count": 75,
   "id": "occupied-judgment",
   "metadata": {},
   "outputs": [
    {
     "name": "stdout",
     "output_type": "stream",
     "text": [
      "\n",
      "CP1: Lattice, time taken 0.710010s \n",
      "\n"
     ]
    }
   ],
   "source": [
    "# given p1, p2, can you tell me what rijs enter?\n",
    "\n",
    "rijInfo = []\n",
    "\n",
    "for p1 in range(Nsites):\n",
    "    for p2 in range(Nsites):\n",
    "        if Adj[p1,p2] > 0.0:\n",
    "\n",
    "            # get coords for p1\n",
    "            [m1,n1] = pmn[p1]\n",
    "            r1 = np.multiply(a1,m1/float(L)) + np.multiply(a2,n1/float(L))\n",
    "\n",
    "            #get coords for p2\n",
    "            [m2,n2] = pmn[p2]\n",
    "            r2 = np.multiply(a1,m2/float(L)) + np.multiply(a2,n2/float(L))\n",
    "\n",
    "            # make images\n",
    "            im = [-1,0,1]\n",
    "\n",
    "            for im1 in im:\n",
    "                for im2 in im:\n",
    "                    rij = r1-r2 + np.multiply(a1,im1) + np.multiply(a2,im2)\n",
    "                    if ( abs(LA.norm(rij) - np.float(1.0/(L)) ) < 1.e-3):\n",
    "                        rijInfo.append([p1,p2,rij[0],rij[1]])\n",
    "\n",
    "rijInfo = np.array(rijInfo)\n",
    "\n",
    "tcp1 = time.time()\n",
    "print('\\nCP1: Lattice, time taken %fs \\n'%(tcp1-tstart))\n"
   ]
  },
  {
   "cell_type": "code",
   "execution_count": 76,
   "id": "crude-diving",
   "metadata": {},
   "outputs": [
    {
     "name": "stdout",
     "output_type": "stream",
     "text": [
      "\n",
      "CP2: Tight-Binding, time taken 0.769472s \n",
      "\n",
      "0j\n"
     ]
    },
    {
     "data": {
      "text/plain": [
       "<matplotlib.image.AxesImage at 0x7fc31ec60450>"
      ]
     },
     "execution_count": 76,
     "metadata": {},
     "output_type": "execute_result"
    },
    {
     "data": {
      "image/png": "[encoded data removed]",
      "text/plain": [
       "<Figure size 288x288 with 1 Axes>"
      ]
     },
     "metadata": {
      "needs_background": "light"
     },
     "output_type": "display_data"
    }
   ],
   "source": [
    "# make Hopping Hamiltonian\n",
    "\n",
    "# make the 6x6 hopping matrix\n",
    "#    liebHop = [[0,1,0],[1,0,1],[0,1,0]]\n",
    "\n",
    "def liebHop_delta(dist):\n",
    "\n",
    "    tplus = 1.0 + delta_stag\n",
    "    tmnus = 1.0 - delta_stag\n",
    "\n",
    "    # cases:\n",
    "    # diagonal\n",
    "    if (LA.norm(np.asarray(dist))==0.0):\n",
    "        reMat = [[0,tplus,0],[tplus,0,tplus],[0,tplus,0]]\n",
    "    # +x\n",
    "    elif (dist[0] > 0.0):\n",
    "        reMat = [[0,0,0],[0,0,0],[0,tmnus,0]] \n",
    "    # -x\n",
    "    elif (dist[0] < 0.0):\n",
    "        reMat = [[0,0,0],[0,0,tmnus],[0,0,0]]\n",
    "\n",
    "    # +y\n",
    "    elif (dist[1] > 0.0):\n",
    "        reMat = [[0,tmnus,0],[0,0,0],[0,0,0]]\n",
    "\n",
    "    # -y\n",
    "    elif (dist[1] < 0.0):\n",
    "        reMat = [[0,0,0],[tmnus,0,0],[0,0,0]]\n",
    "\n",
    "    # none\n",
    "    else:\n",
    "        print(rij,'error in rij')\n",
    "\n",
    "    return np.asmatrix(reMat)\n",
    "\n",
    "\n",
    "# make the 6x6 SOC hop matrix\n",
    "def hopMatSOC(dist):\n",
    "    d12 = dvec(dist)\n",
    "    d_dot_sigma = d12[0]*sigx + d12[1]*sigy\n",
    "    return np.kron(liebHop_delta(dist),1j*d_dot_sigma)\n",
    "\n",
    "def hopMat(dist):\n",
    "    return np.kron(liebHop_delta(dist),np.eye(2))\n",
    "\n",
    "Ohop = np.zeros([Nbands,Nbands]).astype(complex)\n",
    "SOChop = np.zeros([Nbands,Nbands]).astype(complex)\n",
    "\n",
    "\n",
    "for itr in range(len(rijInfo[:,0])):\n",
    "\n",
    "    p1 = rijInfo[itr,0]\n",
    "    p2 = rijInfo[itr,1]\n",
    "    rij = rijInfo[itr,2:4]\n",
    "\n",
    "    i = int(6*p1)\n",
    "    j = int(6*p2)\n",
    "\n",
    "    Ohop[i:i+6,j:j+6] += hopMat(rij)\n",
    "\n",
    "    SOChop[i:i+6,j:j+6] += hopMatSOC(rij)\n",
    "\n",
    "# diagonal pieces\n",
    "for site in range(Nsites):\n",
    "    i = 6*site\n",
    "    Ohop[i:i+6,i:i+6] += hopMat([0,0])\n",
    "\n",
    "tcp2 = time.time()\n",
    "print('\\nCP2: Tight-Binding, time taken %fs \\n'%(tcp2-tcp1))\n",
    "\n",
    "print(np.trace( np.asmatrix(Ohop).getH() - Ohop ))\n",
    "\n",
    "\n",
    "en, w = LA.eig(Ohop)\n",
    "\n",
    "#plt.hist(en, bins = 100)\n",
    "plt.matshow(np.real(Ohop))\n",
    "#plt.show()"
   ]
  },
  {
   "cell_type": "code",
   "execution_count": 96,
   "id": "characteristic-hollywood",
   "metadata": {},
   "outputs": [],
   "source": [
    "def MFInt(MFVec):\n",
    "\tMFHam1 = np.zeros([Nbands,Nbands])\n",
    "\n",
    "\n",
    "\tfor site in range(Nsites):\n",
    "\t\tprint(site,Nsites)\n",
    "\t\tmfsite = MFVec[site, :]\n",
    "        \n",
    "\t\tnupA, ndownA, SplusA = mfsite[0:3]\n",
    "\t\tnupB, ndownB, SplusB = mfsite[3:6]\n",
    "\t\tnupC, ndownC, SplusC = mfsite[6:9]\n",
    "\n",
    "\t\tmfmat = np.asmatrix([[ndownA, -np.conj(SplusA), 0, 0, 0, 0],\\\n",
    "\t\t\t\t[-SplusA, nupA, 0, 0, 0, 0],\\\n",
    "\t\t\t\t[0, 0, ndownB, -np.conj(SplusB), 0, 0],\\\n",
    "\t\t\t\t[0, 0, -SplusB, nupB, 0, 0],\\\n",
    "\t\t\t\t[0, 0, 0, 0, ndownC, -np.conj(SplusC)],\\\n",
    "\t\t\t\t[0, 0, 0, 0, -SplusC, nupC]])\n",
    "\t\t\t\t\n",
    "\t\ti = int(6*site)\n",
    "\t\tMFHam1[i:i+6, i:i+6] = mfmat\n",
    "\n",
    "\treturn MFHam1\n",
    "\n",
    "def giveMat(site, mfindex):\n",
    "\tgm = np.zeros([Nbands,Nbands])\n",
    "\t\n",
    "\ti = 6*site\n",
    "\n",
    "\tmfV = [[0,0],[1,1],[0,1],[2,2],[3,3],[2,3],[4,4],[5,5],[4,5]]\n",
    "\n",
    "\tmatD = np.zeros([6,6])\n",
    "\tmindex = mfV[mfindex]\n",
    "\tmatD[mindex[0],mindex[1]] = 1.0\n",
    "\n",
    "\tgm[i:i+6, i:i+6 ] = matD\n",
    "\n",
    "\treturn np.asmatrix(gm)\n",
    "\n",
    "\n",
    "def classicalEn(MFVec):\n",
    "\tcen = 0.0\n",
    "\tfor i in range(Nsites):\n",
    "\t\tmfsite = MFVec[i,:]\n",
    "\t\tnupA, ndownA, SplusA = mfsite[0:3]\n",
    "\t\tnupB, ndownB, SplusB = mfsite[3:6]\n",
    "\t\tnupC, ndownC, SplusC = mfsite[6:9]\n",
    "\n",
    "\t\tspsm = np.abs(SplusA)**2 + np.abs(SplusB)**2 + np.abs(SplusC)**2\n",
    "\t\tnund = nupA*ndownA + nupB*ndownB + nupC*ndownC\n",
    "\n",
    "\t\tcen += spsm - nund\n",
    "\n",
    "\tHam = Ohop + lamda*SOChop + U*MFInt(MFVec)\n",
    "\ten, ev = np.linalg.eigh(Ham)\n",
    "\n",
    "\treturn np.real((U*cen + np.sum( en[en < 0.0] ))/Nsites)\n",
    "\n",
    "def netMag(MFVec):\n",
    "\tnetMA = np.asarray([0.0,0.0,0.0]).astype(complex)\n",
    "\tnetMB = np.asarray([0.0,0.0,0.0]).astype(complex)\n",
    "\tnetMC = np.asarray([0.0,0.0,0.0]).astype(complex)\n",
    "\tfor i in range(Nsites):\n",
    "\t\tmfsite = MFVec[i,:]\n",
    "\t\tnupA, ndownA, SplusA = mfsite[0:3]\n",
    "\t\tnupB, ndownB, SplusB = mfsite[3:6]\n",
    "\t\tnupC, ndownC, SplusC = mfsite[6:9]\n",
    "\n",
    "\t\tsA = np.asarray([np.real(SplusA), np.imag(SplusA), 0.5*(nupA-ndownA)])\n",
    "\t\tsB = np.asarray([np.real(SplusB), np.imag(SplusB), 0.5*(nupB-ndownB)])\n",
    "\t\tsC = np.asarray([np.real(SplusC), np.imag(SplusC), 0.5*(nupC-ndownC)])\n",
    "\n",
    "\t\tnetMA += sA\n",
    "\t\tnetMB += sB\n",
    "\t\tnetMC += sC\n",
    "\n",
    "\treturn [LA.norm(netMA)/Nsites, LA.norm(netMB)/Nsites, LA.norm(netMC)/Nsites]\n",
    "\n",
    "def MFHaml(MFVec,U):\n",
    "    return Ohop + lamda*SOChop + U*MFInt(MFVec) \n",
    "\n",
    "def MFExpValue(MFVec):\n",
    "\n",
    "\tHam = Ohop + lamda*SOChop + U*MFInt(MFVec)\n",
    "\n",
    "\teigenValues, eigenVectors = np.linalg.eigh(Ham)\n",
    "\n",
    "\tidx = eigenValues.argsort()[:]  \n",
    "\ten = eigenValues[idx]\n",
    "\tumat = np.asmatrix(eigenVectors[:,idx])\n",
    "\n",
    "\tMFout = np.zeros([Nsites,9]).astype(complex)\n",
    "\n",
    "#\tudu = np.dot(umat.getH(), umat)\n",
    "#\tuud = np.dot(umat, umat.getH())\n",
    "#\tprint('tr', np.round(np.trace(uud-udu),2),'\\n')\n",
    "\n",
    "\tfor site in range(Nsites):\n",
    "\t\tfor mfindex in range(9):\n",
    "\n",
    "\t\t\tmfmat = giveMat(site, mfindex)\n",
    "\n",
    "\t\t\tUmfU = np.dot(np.dot(umat.getH(), mfmat), umat)\n",
    "\n",
    "\t\t\t# T=0 means sum over negative energies\n",
    "\t\t\tsm = 0.0\n",
    "\t\t\tindx = np.arange(0,Nbands)[(en<=0.0)]\n",
    "\t\t\tfor nn in indx:\n",
    "\t\t\t\tsm += UmfU[nn,nn]\n",
    "\n",
    "\t\t\tMFout[site,mfindex] = sm\n",
    "\n",
    "\n",
    "#\tprint(classicalEn(MFVec), netMag(MFVec), DeltaConf(MFVec,MFout))\n",
    "\n",
    "\treturn MFout\n",
    "\n",
    "def DeltaConf(mf1, mf2):\n",
    "\terr = 0.0\n",
    "\tfor i in range(Nsites):\n",
    "\t\tmfsite = mf1[i,:]\n",
    "\t\tnupA, ndownA, SplusA = mfsite[0:3]\n",
    "\t\tnupB, ndownB, SplusB = mfsite[3:6]\n",
    "\t\tnupC, ndownC, SplusC = mfsite[6:9]\n",
    "\t\tsA1 = np.asarray([np.real(SplusA), np.imag(SplusA), 0.5*(nupA-ndownA)])\n",
    "\t\tsB1 = np.asarray([np.real(SplusB), np.imag(SplusB), 0.5*(nupB-ndownB)])\n",
    "\t\tsC1 = np.asarray([np.real(SplusC), np.imag(SplusC), 0.5*(nupC-ndownC)])\n",
    "\n",
    "\t\tmfsite = mf2[i,:]\n",
    "\t\tnupA, ndownA, SplusA = mfsite[0:3]\n",
    "\t\tnupB, ndownB, SplusB = mfsite[3:6]\n",
    "\t\tnupC, ndownC, SplusC = mfsite[6:9]\n",
    "\t\tsA2 = np.asarray([np.real(SplusA), np.imag(SplusA), 0.5*(nupA-ndownA)])\n",
    "\t\tsB2 = np.asarray([np.real(SplusB), np.imag(SplusB), 0.5*(nupB-ndownB)])\n",
    "\t\tsC2 = np.asarray([np.real(SplusC), np.imag(SplusC), 0.5*(nupC-ndownC)])\n",
    "\n",
    "\t\terr += LA.norm(sA1-sA2) + LA.norm(sB1-sB2) + LA.norm(sC1-sC2)\n",
    "\n",
    "\treturn err/Nsites\n"
   ]
  },
  {
   "cell_type": "code",
   "execution_count": 97,
   "id": "complex-consolidation",
   "metadata": {},
   "outputs": [],
   "source": [
    "seed = np.ones([Nsites,9])\n",
    "for i in range(Nsites):\n",
    "    seed[i,:] = np.ones(9)\n",
    "    seed[i,2] = 1.0\n",
    "    seed[i,5] = -1.0\n",
    "    seed[i,8] = 1.0"
   ]
  },
  {
   "cell_type": "code",
   "execution_count": 98,
   "id": "intimate-division",
   "metadata": {},
   "outputs": [
    {
     "data": {
      "text/plain": [
       "array([[ 1.,  1.,  1.,  1.,  1., -1.,  1.,  1.,  1.],\n",
       "       [ 1.,  1.,  1.,  1.,  1., -1.,  1.,  1.,  1.],\n",
       "       [ 1.,  1.,  1.,  1.,  1., -1.,  1.,  1.,  1.],\n",
       "       [ 1.,  1.,  1.,  1.,  1., -1.,  1.,  1.,  1.]])"
      ]
     },
     "execution_count": 98,
     "metadata": {},
     "output_type": "execute_result"
    }
   ],
   "source": [
    "seed"
   ]
  },
  {
   "cell_type": "code",
   "execution_count": 99,
   "id": "attempted-financing",
   "metadata": {},
   "outputs": [
    {
     "name": "stdout",
     "output_type": "stream",
     "text": [
      "0 4\n",
      "1 4\n",
      "2 4\n",
      "3 4\n"
     ]
    },
    {
     "data": {
      "text/plain": [
       "<matplotlib.colorbar.Colorbar at 0x7fc31ff093d0>"
      ]
     },
     "execution_count": 99,
     "metadata": {},
     "output_type": "execute_result"
    },
    {
     "data": {
      "image/png": "[encoded data removed]",
      "text/plain": [
       "<Figure size 288x288 with 2 Axes>"
      ]
     },
     "metadata": {
      "needs_background": "light"
     },
     "output_type": "display_data"
    }
   ],
   "source": [
    "lamda = 0.0\n",
    "U = 0.0\n",
    "plt.matshow(np.real(MFHaml(seed,U)))\n",
    "plt.colorbar()"
   ]
  },
  {
   "cell_type": "code",
   "execution_count": 104,
   "id": "large-journal",
   "metadata": {},
   "outputs": [
    {
     "name": "stdout",
     "output_type": "stream",
     "text": [
      "0 4\n",
      "1 4\n",
      "2 4\n",
      "3 4\n"
     ]
    },
    {
     "data": {
      "text/plain": [
       "<matplotlib.colorbar.Colorbar at 0x7fc3205e52d0>"
      ]
     },
     "execution_count": 104,
     "metadata": {},
     "output_type": "execute_result"
    },
    {
     "data": {
      "image/png": "[encoded data removed]",
      "text/plain": [
       "<Figure size 288x288 with 2 Axes>"
      ]
     },
     "metadata": {
      "needs_background": "light"
     },
     "output_type": "display_data"
    }
   ],
   "source": [
    "lamda = 0.0\n",
    "U = 0.0\n",
    "plt.matshow(np.real(MFHaml(seed,U)))\n",
    "plt.colorbar()"
   ]
  },
  {
   "cell_type": "code",
   "execution_count": 102,
   "id": "equal-fantasy",
   "metadata": {},
   "outputs": [
    {
     "name": "stdout",
     "output_type": "stream",
     "text": [
      "0 4\n",
      "1 4\n",
      "2 4\n",
      "3 4\n"
     ]
    },
    {
     "data": {
      "text/plain": [
       "<matplotlib.colorbar.Colorbar at 0x7fc320136990>"
      ]
     },
     "execution_count": 102,
     "metadata": {},
     "output_type": "execute_result"
    },
    {
     "data": {
      "image/png": "[encoded data removed]",
      "text/plain": [
       "<Figure size 288x288 with 2 Axes>"
      ]
     },
     "metadata": {
      "needs_background": "light"
     },
     "output_type": "display_data"
    }
   ],
   "source": [
    "lamda = 0.0\n",
    "U = 1.0\n",
    "plt.matshow(np.real(MFInt(seed)))\n",
    "plt.colorbar()"
   ]
  },
  {
   "cell_type": "code",
   "execution_count": null,
   "id": "senior-imagination",
   "metadata": {},
   "outputs": [],
   "source": []
  },
  {
   "cell_type": "code",
   "execution_count": null,
   "id": "lightweight-maker",
   "metadata": {},
   "outputs": [],
   "source": []
  }
 ],
 "metadata": {
  "kernelspec": {
   "display_name": "Python 3",
   "language": "python",
   "name": "python3"
  },
  "language_info": {
   "codemirror_mode": {
    "name": "ipython",
    "version": 3
   },
   "file_extension": ".py",
   "mimetype": "text/x-python",
   "name": "python",
   "nbconvert_exporter": "python",
   "pygments_lexer": "ipython3",
   "version": "3.7.9"
  }
 },
 "nbformat": 4,
 "nbformat_minor": 5
}
