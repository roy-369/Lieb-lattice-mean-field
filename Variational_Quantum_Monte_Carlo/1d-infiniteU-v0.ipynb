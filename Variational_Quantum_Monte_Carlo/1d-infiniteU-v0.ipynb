{
 "cells": [
  {
   "cell_type": "code",
   "execution_count": 3,
   "id": "stable-pixel",
   "metadata": {},
   "outputs": [],
   "source": [
    "# 1D chain of spinless atoms with infinite Coulomb repulsion"
   ]
  },
  {
   "cell_type": "code",
   "execution_count": 18,
   "id": "engaged-vienna",
   "metadata": {},
   "outputs": [],
   "source": [
    "import numpy as np\n",
    "import numpy.linalg as LA\n",
    "from tqdm import tqdm\n",
    "\n",
    "import time\n",
    "import matplotlib.pyplot as plt"
   ]
  },
  {
   "cell_type": "code",
   "execution_count": 19,
   "id": "prepared-forum",
   "metadata": {},
   "outputs": [],
   "source": [
    "# parameters\n",
    "\n",
    "Ns = 100   # number of sites\n",
    "Np = 4   # number of particles, filling = Np/Ns\n",
    "\n",
    "MCsteps = int(1.e4)\n",
    "\n",
    "burn = 1.e3     # how many steps to burn\n",
    "sweep = 1.e3    # sample configs after what steps"
   ]
  },
  {
   "cell_type": "code",
   "execution_count": 20,
   "id": "d5a673c3",
   "metadata": {},
   "outputs": [],
   "source": [
    "def pbc(n):\n",
    "    if n<0:\n",
    "        return n+Ns\n",
    "    elif n>=Ns:\n",
    "        return n-Ns\n",
    "    else:\n",
    "        return n"
   ]
  },
  {
   "cell_type": "code",
   "execution_count": 21,
   "id": "cheap-climb",
   "metadata": {},
   "outputs": [],
   "source": [
    "# single particle states\n",
    "\n",
    "all_sp_states = np.arange(-np.pi, np.pi, 2*np.pi/Ns)\n",
    "energy = all_sp_states*all_sp_states\n",
    "idx = energy.argsort()[:]\n",
    "all_sp_states_energy_sorted = all_sp_states[idx]"
   ]
  },
  {
   "cell_type": "code",
   "execution_count": 22,
   "id": "formed-unknown",
   "metadata": {},
   "outputs": [],
   "source": [
    "# for our problem, we only need Np of the lowest states\n",
    "\n",
    "sp_states = all_sp_states_energy_sorted[0:Np]"
   ]
  },
  {
   "cell_type": "code",
   "execution_count": 23,
   "id": "saved-great",
   "metadata": {},
   "outputs": [],
   "source": [
    "# particle positions\n",
    "\n",
    "def psi(particle_positions,g):\n",
    "\n",
    "    # slater determinant\n",
    "    slater = np.zeros([Np,Np]).astype(complex)\n",
    "\n",
    "    for i in range(Np):\n",
    "        for j in range(Np):\n",
    "            ki = sp_states[i]\n",
    "            rj = particle_positions[j]\n",
    "            slater[i,j] = np.exp(1j*ki*rj)\n",
    "\n",
    "    # jastrow factor\n",
    "    jastrow = 1.0\n",
    "    for p1 in particle_positions:\n",
    "        ngbr = [pbc(p1-1),pbc(p1+1)]\n",
    "        if ngbr in particle_positions:  # neareast neighbors\n",
    "            jastrow = jastrow*g\n",
    "\n",
    "    return jastrow*LA.det(slater)"
   ]
  },
  {
   "cell_type": "code",
   "execution_count": 24,
   "id": "viral-compromise",
   "metadata": {
    "scrolled": true
   },
   "outputs": [],
   "source": [
    "# now let's do a MC step\n",
    "\n",
    "# start with random position\n",
    "\n",
    "def GiveList(g):\n",
    "    init_pos = np.random.choice(Ns, Np, replace=False)\n",
    "\n",
    "    rij_list = []\n",
    "\n",
    "    pos = init_pos\n",
    "\n",
    "    for step in range(MCsteps):\n",
    "        \n",
    "        prob = np.abs(psi(pos,g))**2\n",
    "        \n",
    "        # select a particle at random\n",
    "        pp_rand = np.random.randint(Np)\n",
    "        # change its position\n",
    "        new_pos = np.copy(pos)\n",
    "        # give it a kick\n",
    "        kick = np.random.choice(np.setdiff1d(np.arange(Ns),pos))\n",
    "        # update the position\n",
    "        new_pos[pp_rand] = kick\n",
    "        # calculate the new probability\n",
    "        prob_new = np.abs(psi(new_pos,g))**2\n",
    "\n",
    "        # is it any better?\n",
    "        ratio = prob_new/prob\n",
    "        \n",
    "        # make the move\n",
    "        if (ratio > 1):\n",
    "            pos = new_pos\n",
    "            prob = prob_new\n",
    "#            acpr += 1.0/MCsteps\n",
    "        else:\n",
    "            r = np.random.random()  # metropolis step\n",
    "            if (r < ratio ):\n",
    "                pos = new_pos\n",
    "                prob = prob_new\n",
    "#                acpr += 1.0/MCsteps     # acceptance ratio\n",
    "\n",
    "        if (step > burn and step%sweep ==0):\n",
    "            rij_list.append(pos)\n",
    "\n",
    "    return rij_list    \n",
    "#print('acceptance ratio', acpr)\n",
    "    "
   ]
  },
  {
   "cell_type": "code",
   "execution_count": 26,
   "id": "485b6976",
   "metadata": {},
   "outputs": [
    {
     "name": "stderr",
     "output_type": "stream",
     "text": [
      "  0%|          | 0/100 [00:00<?, ?it/s]/opt/anaconda3/envs/tf/lib/python3.7/site-packages/ipykernel_launcher.py:18: DeprecationWarning: elementwise comparison failed; this will raise an error in the future.\n",
      "100%|██████████| 100/100 [08:21<00:00,  5.01s/it]\n"
     ]
    }
   ],
   "source": [
    "# save all configs\n",
    "gar = np.arange(0,1,0.01)\n",
    "saveConfigs = []\n",
    "for g in tqdm(gar):\n",
    "    saveConfigs.append(GiveList(g))"
   ]
  },
  {
   "cell_type": "code",
   "execution_count": null,
   "id": "4ec59c52",
   "metadata": {},
   "outputs": [],
   "source": [
    "# observables\n",
    "# given a list, how do you calculate total Energy?\n",
    "\n",
    "def PE(mclist,U):\n",
    "    Nmc = len(mclist)\n",
    "    # each step has a set of positions\n",
    "    pe = []\n",
    "    for config in mclist:\n",
    "        pin = 0.0\n",
    "        for pos in config:\n",
    "            if np.isin(pbc(pos-1),config):\n",
    "                pin += U\n",
    "            if np.isin(pbc(pos+1),config):\n",
    "                pin += U\n",
    "        pe.append(pin)\n",
    "    \n",
    "    return np.mean(pe)\n",
    "\n",
    "def KE(mclist,U):\n",
    "    Nmc = len(mclist)\n",
    "    # each step has a set of positions\n",
    "    ke = []\n",
    "    for config in mclist:\n",
    "        kin = 0.0\n",
    "        for pos in config:\n",
    "            \n",
    "        pe.append(pin)\n",
    "    \n",
    "    return np.mean(pe)"
   ]
  },
  {
   "cell_type": "code",
   "execution_count": 13,
   "id": "74a3e3f3",
   "metadata": {},
   "outputs": [
    {
     "name": "stderr",
     "output_type": "stream",
     "text": [
      "100%|██████████| 20/20 [00:17<00:00,  1.11it/s]\n"
     ]
    }
   ],
   "source": [
    "Uar = np.arange(0,10,0.5)\n",
    "\n",
    "plotData = []\n",
    "for U in tqdm(Uar):\n",
    "    pear = []\n",
    "    for mclist in saveConfigs:\n",
    "        pot_energy = PE(mclist,U)\n",
    "        pear.append( pot_energy )\n",
    "\n",
    "    plotData.append(pear)    "
   ]
  },
  {
   "cell_type": "code",
   "execution_count": 17,
   "id": "8559c405",
   "metadata": {},
   "outputs": [
    {
     "data": {
      "image/png": "[encoded data removed]",
      "text/plain": [
       "<Figure size 640x480 with 1 Axes>"
      ]
     },
     "metadata": {},
     "output_type": "display_data"
    }
   ],
   "source": [
    "plt.plot(gar,plotData[10] )\n",
    "plt.show()"
   ]
  },
  {
   "cell_type": "code",
   "execution_count": null,
   "id": "d0534d9d",
   "metadata": {},
   "outputs": [],
   "source": []
  }
 ],
 "metadata": {
  "kernelspec": {
   "display_name": "Python 3",
   "language": "python",
   "name": "python3"
  },
  "language_info": {
   "codemirror_mode": {
    "name": "ipython",
    "version": 3
   },
   "file_extension": ".py",
   "mimetype": "text/x-python",
   "name": "python",
   "nbconvert_exporter": "python",
   "pygments_lexer": "ipython3",
   "version": "3.7.10"
  }
 },
 "nbformat": 4,
 "nbformat_minor": 5
}
