{
 "cells": [
  {
   "cell_type": "code",
   "execution_count": 1,
   "metadata": {},
   "outputs": [],
   "source": [
    "import numpy as np\n",
    "import numpy.linalg as LA"
   ]
  },
  {
   "cell_type": "code",
   "execution_count": 34,
   "metadata": {},
   "outputs": [],
   "source": [
    "def Dprime(D0, detD0, D0bar, D1, part_index):\n",
    "    # gives detD1, D1bar as output -- *without* calculating det(D1) and inv(D1).T :: ref Nandini Notes\n",
    "\n",
    "    j0 = part_index     # particle that has moved\n",
    "\n",
    "    Dinv = D0bar.T\n",
    "    diff_pos = np.asarray((D1-D0)[:,j0])\n",
    "    print(diff_pos,'diffpos')\n",
    "\n",
    "    ek = np.zeros([len(D0),1])\n",
    "    ek[j0,0] = 1\n",
    "\n",
    "    print(ek,'ek')\n",
    "\n",
    "    print(np.shape(ek), np.shape(Dinv), np.shape(diff_pos))\n",
    "\n",
    "    qRatio = (1.0 + ek.T*Dinv*diff_pos)[0,0]\n",
    "\n",
    "    print(qRatio,'qRatio')\n",
    "\n",
    "    detD1 = qRatio*detD0\n",
    "\n",
    "    if np.abs( detD1 ) > 0.0:       \n",
    "        D1inv = Dinv - (Dinv*diff_pos*ek.T*Dinv)/qRatio       \n",
    "        return detD1, D1inv.T\n",
    "    else:\n",
    "        return 0.0, np.eye(Np)\n"
   ]
  },
  {
   "cell_type": "code",
   "execution_count": 35,
   "metadata": {},
   "outputs": [
    {
     "name": "stdout",
     "output_type": "stream",
     "text": [
      "[[1 2]\n",
      " [3 4]] -2.0000000000000004 [[-2.   1.5]\n",
      " [ 1.  -0.5]] [[11  2]\n",
      " [15  4]] 0\n",
      "[[10]\n",
      " [12]] diffpos\n",
      "[[1.]\n",
      " [0.]] ek\n",
      "(2, 1) (2, 2) (2, 1)\n",
      "-6.9999999999999964 qRatio\n",
      "(13.999999999999996, matrix([[ 0.28571429, -1.07142857],\n",
      "        [-0.14285714,  0.78571429]]))\n",
      "13.999999999999996 [[ 0.28571429 -1.07142857]\n",
      " [-0.14285714  0.78571429]]\n"
     ]
    }
   ],
   "source": [
    "D0 = np.asmatrix([[1,2],[3,4]])\n",
    "detD0 = LA.det(D0)\n",
    "D0bar = LA.inv(D0).T\n",
    "D1 = np.asmatrix([[11,2],[15,4]])\n",
    "part_index = 0\n",
    "\n",
    "print(D0, detD0, D0bar, D1, part_index)\n",
    "\n",
    "print(Dprime(D0, detD0, D0bar, D1, part_index))\n",
    "\n",
    "print( LA.det(D1), LA.inv(D1).T )"
   ]
  },
  {
   "cell_type": "code",
   "execution_count": null,
   "metadata": {},
   "outputs": [],
   "source": []
  },
  {
   "cell_type": "code",
   "execution_count": null,
   "metadata": {},
   "outputs": [],
   "source": []
  }
 ],
 "metadata": {
  "interpreter": {
   "hash": "40d3a090f54c6569ab1632332b64b2c03c39dcf918b08424e98f38b5ae0af88f"
  },
  "kernelspec": {
   "display_name": "Python 3.7.9 ('base')",
   "language": "python",
   "name": "python3"
  },
  "language_info": {
   "codemirror_mode": {
    "name": "ipython",
    "version": 3
   },
   "file_extension": ".py",
   "mimetype": "text/x-python",
   "name": "python",
   "nbconvert_exporter": "python",
   "pygments_lexer": "ipython3",
   "version": "3.7.9"
  },
  "orig_nbformat": 4
 },
 "nbformat": 4,
 "nbformat_minor": 2
}
